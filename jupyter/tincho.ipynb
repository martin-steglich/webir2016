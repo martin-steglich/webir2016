{
 "cells": [
  {
   "cell_type": "code",
   "execution_count": 2,
   "metadata": {
    "collapsed": false
   },
   "outputs": [],
   "source": [
    "import scrapy\n",
    "import re\n",
    "\n",
    "class MarcaSpider(scrapy.Spider):\n",
    "    name = \"marca\"\n",
    "    allowed_domains = [\"www.marca.com\"]\n",
    "    start_urls = [        \n",
    "        \"http://www.marca.com/futbol/primera-division.html\"\n",
    "    ]\n",
    "\n",
    "    def parse(self, response):\n",
    "        for title in response.css('div.container'):\n",
    "            yield title #{'title': title.css('a ::text').extract_first()}\n",
    "\n",
    "        #next_page = response.css('div.prev-post > a ::attr(href)').extract_first()\n",
    "        #if next_page:\n",
    "        #    yield scrapy.Request(response.urljoin(next_page), callback=self.parse)"
   ]
  },
  {
   "cell_type": "code",
   "execution_count": null,
   "metadata": {
    "collapsed": true
   },
   "outputs": [],
   "source": []
  }
 ],
 "metadata": {
  "kernelspec": {
   "display_name": "Python 2",
   "language": "python",
   "name": "python2"
  },
  "language_info": {
   "codemirror_mode": {
    "name": "ipython",
    "version": 2
   },
   "file_extension": ".py",
   "mimetype": "text/x-python",
   "name": "python",
   "nbconvert_exporter": "python",
   "pygments_lexer": "ipython2",
   "version": "2.7.6"
  }
 },
 "nbformat": 4,
 "nbformat_minor": 0
}
