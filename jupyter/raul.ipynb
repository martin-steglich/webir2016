{
 "cells": [
  {
   "cell_type": "code",
   "execution_count": 12,
   "metadata": {
    "collapsed": false
   },
   "outputs": [],
   "source": [
    "import TweetRepository\n",
    "#DB LOCAL\n",
    "dbhost = 'mongodb'\n",
    "dbcollection = 'users'\n",
    "dbuser = 'mongo_krypton'\n",
    "dbport= '27017'\n",
    "dbpass = 'mongo_krypton_pass'\n",
    "users = TweetRepository.TweetRepositoryNER(dbcollection,dbhost,dbuser,dbpass,dbport)"
   ]
  },
  {
   "cell_type": "code",
   "execution_count": 2,
   "metadata": {
    "collapsed": false
   },
   "outputs": [],
   "source": [
    "from libs import TweetRepository\n",
    "#DB LOCAL\n",
    "dbhost = 'krypton-mongodb'\n",
    "dbcollection = 'tweets'\n",
    "dbuser = 'mongo_krypton'\n",
    "dbport= '27017'\n",
    "dbpass = 'mongo_krypton_pass'\n",
    "tweetRepository = TweetRepository.TweetRepository(dbcollection,dbhost,dbuser,dbpass,dbport)"
   ]
  },
  {
   "cell_type": "code",
   "execution_count": 1,
   "metadata": {
    "collapsed": false
   },
   "outputs": [],
   "source": [
    "from libs import TweetRepository\n",
    "#DB LOCAL\n",
    "dbhost = 'ds019766.mlab.com'\n",
    "dbcollection = 'imported-tweets'\n",
    "dbuser = 'krypton-collector'\n",
    "dbport= '19766'\n",
    "dbpass = '23l5izVPF92OJm8x'\n",
    "tweetRepositoryOld = TweetRepository.TweetRepository(dbcollection,dbhost,dbuser,dbpass,dbport)\n"
   ]
  },
  {
   "cell_type": "code",
   "execution_count": 6,
   "metadata": {
    "collapsed": false
   },
   "outputs": [],
   "source": [
    "import os\n",
    "dbhost = os.getenv('MONGO_HOST','mongodb')\n",
    "dbport = os.getenv('MONGO_PORT',21017)\n",
    "dbuser = os.getenv('MONGO_USER',None)\n",
    "dbpass = os.getenv('MONGO_PASS',None)\n",
    "dbcollection = os.getenv('MONGO_COLL','imported-tweets')\n",
    "tweetRepository = TweetRepository.TweetRepository(dbcollection,dbhost,dbuser,dbpass,dbport)"
   ]
  },
  {
   "cell_type": "code",
   "execution_count": 3,
   "metadata": {
    "collapsed": false
   },
   "outputs": [
    {
     "name": "stdout",
     "output_type": "stream",
     "text": [
      "Tweet Repo 0\n",
      "Tweet Repo 329\n"
     ]
    }
   ],
   "source": [
    "print 'Tweet Repo',tweetRepository.cantidad()\n",
    "print 'Tweet Repo',tweetRepositoryOld.cantidad()\n",
    "#print 'Tweet NER Repo',tweetRepositoryNER.cantidad()"
   ]
  },
  {
   "cell_type": "code",
   "execution_count": 9,
   "metadata": {
    "collapsed": false
   },
   "outputs": [
    {
     "data": {
      "text/plain": [
       "['__class__',\n",
       " '__delattr__',\n",
       " '__dict__',\n",
       " '__doc__',\n",
       " '__format__',\n",
       " '__getattribute__',\n",
       " '__hash__',\n",
       " '__init__',\n",
       " '__module__',\n",
       " '__new__',\n",
       " '__reduce__',\n",
       " '__reduce_ex__',\n",
       " '__repr__',\n",
       " '__setattr__',\n",
       " '__sizeof__',\n",
       " '__str__',\n",
       " '__subclasshook__',\n",
       " '__weakref__',\n",
       " 'addTweet',\n",
       " 'addTweets',\n",
       " 'cantidad',\n",
       " 'classifyTweet',\n",
       " 'collection',\n",
       " 'getAll',\n",
       " 'getClassifiedTweets',\n",
       " 'getTweetById',\n",
       " 'getUnclassifiedTweet',\n",
       " 'getUnclassifiedTweets',\n",
       " 'lastId',\n",
       " 'simplifyText',\n",
       " 'updateAll',\n",
       " 'updateOne',\n",
       " 'usefulTweetTextList']"
      ]
     },
     "execution_count": 9,
     "metadata": {},
     "output_type": "execute_result"
    }
   ],
   "source": [
    "dir(tweetRepository)"
   ]
  },
  {
   "cell_type": "code",
   "execution_count": 7,
   "metadata": {
    "collapsed": false
   },
   "outputs": [
    {
     "data": {
      "text/plain": [
       "329"
      ]
     },
     "execution_count": 7,
     "metadata": {},
     "output_type": "execute_result"
    }
   ],
   "source": [
    "tweetRepository.addTweets(tweetRepositoryOld.getAll())"
   ]
  },
  {
   "cell_type": "code",
   "execution_count": null,
   "metadata": {
    "collapsed": false
   },
   "outputs": [],
   "source": [
    "print len(classified)"
   ]
  },
  {
   "cell_type": "code",
   "execution_count": 1,
   "metadata": {
    "collapsed": true
   },
   "outputs": [],
   "source": [
    "dbhost = 'mongodb'\n",
    "dbcollection = 'users'\n",
    "dbuser = 'mongo_krypton'\n",
    "dbport= '27017'\n",
    "dbpass = 'mongo_krypton_pass'\n",
    "from pymongo import MongoClient\n",
    "otherClient = MongoClient('mongodb://'+dbuser+':'+dbpass+'@'+dbhost+':'+dbport+'/'+\"krypton\")\n",
    "krypton_db = otherClient[\"krypton\"]\n",
    "#Users\n",
    "users = krypton_db[\"users\"]"
   ]
  },
  {
   "cell_type": "code",
   "execution_count": 5,
   "metadata": {
    "collapsed": false
   },
   "outputs": [
    {
     "name": "stdout",
     "output_type": "stream",
     "text": [
      "{u'password': u'$6$rounds=601009$SqTPFVEKbcERqdEl$U0DLzlX8BNpiiO3k8jTPViRH3zYLHNxoup4qx4xca2pxPMrUK5kk8unJ.MHuwToO9A9z.OtiZOidnnWAC2iyu1', u'_id': ObjectId('57d1e35be3b4fe000b3cb13c'), u'email': u'raul@mgcoders.uy'}\n",
      "{u'password': u'$6$rounds=625254$j4ovLk/vAvDsdJyJ$5SwOa3Yk.3vaaSV9VV1rdrzdQpN7e54o9UtIo9m00oIvvE4woplwyiFsahM.hKLLOZMUyh8fNFfop/hhwiChu1', u'_id': ObjectId('57d1e5c7e3b4fe00180550f1'), u'email': u'martin@mgcoders.uy'}\n",
      "{u'password': u'$6$rounds=701224$F6cPW9p5VodAprtG$J6rEBFpGZ5r7C7Ofh5UwAq/tKBQkrRlWj/3lGapkHFCrH45fk5x4G7EyY5OSmXOtUVwiF1HCdMpljuq1.pvCk.', u'_id': ObjectId('57d1f083e3b4fe00523adc08'), u'email': u'martin@mgcoders.uy'}\n"
     ]
    }
   ],
   "source": [
    "for u in users.find():\n",
    "    print u"
   ]
  },
  {
   "cell_type": "code",
   "execution_count": null,
   "metadata": {
    "collapsed": true
   },
   "outputs": [],
   "source": [
    "\"$6$rounds=712716$fV0G8X6XMTNSQ4pq$9UsCvrqcBlcUr8EULPwmf2/tVIymbzk3PCHjf6G8Bi/2LFbyWX6rfOsj1YUM8TGqdReooJzQ.pi80Ao5XM.1F1\"\n",
    "\"$6$rounds=625254$j4ovLk/vAvDsdJyJ$5SwOa3Yk.3vaaSV9VV1rdrzdQpN7e54o9UtIo9m00oIvvE4woplwyiFsahM.hKLLOZMUyh8fNFfop/hhwiChu1\"\n",
    "\"$6$rounds=696321$RFg.g76.ZZD9j7OR$gegcMJODC4PqOuhI8hBJR7Tuksq/NbQK.pcujHxYuLykYaaUsxCpecWmdfZ0LBAf4mVca330i6wkhwxRYsxfj.\"\""
   ]
  }
 ],
 "metadata": {
  "kernelspec": {
   "display_name": "Python 2",
   "language": "python",
   "name": "python2"
  },
  "language_info": {
   "codemirror_mode": {
    "name": "ipython",
    "version": 2
   },
   "file_extension": ".py",
   "mimetype": "text/x-python",
   "name": "python",
   "nbconvert_exporter": "python",
   "pygments_lexer": "ipython2",
   "version": "2.7.6"
  }
 },
 "nbformat": 4,
 "nbformat_minor": 0
}
