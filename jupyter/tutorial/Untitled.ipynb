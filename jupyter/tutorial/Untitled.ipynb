{
 "cells": [
  {
   "cell_type": "code",
   "execution_count": 21,
   "metadata": {
    "collapsed": false
   },
   "outputs": [],
   "source": [
    "import subprocess\n",
    "import os\n",
    "from pymongo import MongoClient\n"
   ]
  },
  {
   "cell_type": "code",
   "execution_count": 11,
   "metadata": {
    "collapsed": true
   },
   "outputs": [],
   "source": [
    "#DB NER\n",
    "dbdb = os.getenv('MONGO_DATABASE',None)\n",
    "dbhost = os.getenv('MONGO_HOST',None)\n",
    "dbport = os.getenv('MONGO_PORT',None)\n",
    "dbuser = os.getenv('MONGO_USER',None)\n",
    "dbpass = os.getenv('MONGO_PASS',None)\n",
    "dbcoll = os.getenv('MONGO_COLL',None)\n",
    "\n",
    "\n",
    "#Info corridas\n",
    "otherClient = MongoClient('mongodb://'+dbuser+':'+dbpass+'@'+dbhost+':'+dbport+'/'+dbdb)\n",
    "db = otherClient[dbdb]\n",
    "news_data = db['news-data']"
   ]
  },
  {
   "cell_type": "code",
   "execution_count": 15,
   "metadata": {
    "collapsed": false
   },
   "outputs": [
    {
     "data": {
      "text/plain": [
       "<pymongo.results.DeleteResult at 0x7f7f20e4e0f0>"
      ]
     },
     "execution_count": 15,
     "metadata": {},
     "output_type": "execute_result"
    }
   ],
   "source": [
    "news_data.delete_many({\"source\" : \"Marca\"})"
   ]
  },
  {
   "cell_type": "code",
   "execution_count": 24,
   "metadata": {
    "collapsed": false
   },
   "outputs": [],
   "source": [
    "process = subprocess.Popen(['marca.sh'], stdout=subprocess.PIPE, stderr=subprocess.PIPE, shell=True)\n",
    "process.wait() # Wait for process to complete.\n",
    "\n",
    "# iterate on the stdout line by line\n",
    "for line in process.stdout.readlines():\n",
    "    print(line)"
   ]
  },
  {
   "cell_type": "code",
   "execution_count": null,
   "metadata": {
    "collapsed": true
   },
   "outputs": [],
   "source": []
  }
 ],
 "metadata": {
  "kernelspec": {
   "display_name": "Python 2",
   "language": "python",
   "name": "python2"
  },
  "language_info": {
   "codemirror_mode": {
    "name": "ipython",
    "version": 2
   },
   "file_extension": ".py",
   "mimetype": "text/x-python",
   "name": "python",
   "nbconvert_exporter": "python",
   "pygments_lexer": "ipython2",
   "version": "2.7.6"
  }
 },
 "nbformat": 4,
 "nbformat_minor": 0
}
