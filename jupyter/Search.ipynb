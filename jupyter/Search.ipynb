{
 "cells": [
  {
   "cell_type": "code",
   "execution_count": 12,
   "metadata": {
    "collapsed": false
   },
   "outputs": [
    {
     "name": "stdout",
     "output_type": "stream",
     "text": [
      "Search complete (0.057 seconds)\n",
      "15\n",
      "(Tue Apr 26 21:35:50 +0000 2016) @_MissKellyBiebs RT @popsugarau: Watch @ArianaGrande and @jimmyfallon converse with Justin Bieber lyrics: https://t.co/4Pv37IU20X\n",
      "(Tue Apr 26 21:35:49 +0000 2016) @Tasha0221 RT @popsugarau: Watch @ArianaGrande and @jimmyfallon converse with Justin Bieber lyrics: https://t.co/4Pv37IU20X\n",
      "(Tue Apr 26 21:35:47 +0000 2016) @JessannAdele And Justin Bieber  https://t.co/f6Ij5mGZLK\n",
      "(Tue Apr 26 21:35:44 +0000 2016) @SalmaMartinez99 RT @JBCrewdotcom: Information on Justin Bieber's Purpose album + singles certifications and sales totals. https://t.co/10BukS2Wie\n",
      "(Tue Apr 26 21:35:34 +0000 2016) @mleibold17 Justin Bieber is in Cleveland and I'm stuck in Toledo and this is not ok\n",
      "(Tue Apr 26 21:35:30 +0000 2016) @GZeaiter RT @JBCrewdotcom: Information on Justin Bieber's Purpose album + singles certifications and sales totals. https://t.co/10BukS2Wie\n",
      "(Tue Apr 26 21:35:30 +0000 2016) @jdbxrevival RT @popsugarau: Watch @ArianaGrande and @jimmyfallon converse with Justin Bieber lyrics: https://t.co/4Pv37IU20X\n",
      "(Tue Apr 26 21:35:27 +0000 2016) @GZeaiter RT @JBCrewdotcom: Haha! Check out this snippet of Ariana Grande and Jimmy Fallon lip-syncing to Justin Bieber. https://t.co/C5Ky6ORYYZ\n",
      "(Tue Apr 26 21:35:27 +0000 2016) @Sirbizzlebaee RT @popsugarau: Watch @ArianaGrande and @jimmyfallon converse with Justin Bieber lyrics: https://t.co/4Pv37IU20X\n",
      "(Tue Apr 26 21:35:18 +0000 2016) @CaylaCheek RT @ItsAlexisSimone: Kiss and Tell by Justin Bieber will forever be one of my favorites\n",
      "(Tue Apr 26 21:35:10 +0000 2016) @shawncutieAF RT @ThePhillLewis: My daughter went to the Justin Bieber concert and all I got was.... https://t.co/CPbGerGtlO\n",
      "(Tue Apr 26 21:35:10 +0000 2016) @ConfidentJen79 RT @popsugarau: Watch @ArianaGrande and @jimmyfallon converse with Justin Bieber lyrics: https://t.co/4Pv37IU20X\n",
      "(Tue Apr 26 21:35:07 +0000 2016) @B3li3b3rLucia RT @selenagomez: Mom made me turn the depressing music off and put on \"One Time\" by my boy Justin Bieber. Why does he always put me in a go…\n",
      "(Tue Apr 26 21:35:03 +0000 2016) @NikaylaJacobs RT @zvailable: Justin Bieber: \n",
      "- so squishy and little\n",
      "- has made mistakes but grew stronger\n",
      "- can sing \n",
      "- has such a cute smile https://t.…\n",
      "(Tue Apr 26 21:35:00 +0000 2016) @GZeaiter RT @popsugarau: Watch @ArianaGrande and @jimmyfallon converse with Justin Bieber lyrics: https://t.co/4Pv37IU20X\n"
     ]
    }
   ],
   "source": [
    "from twitter import *\n",
    "\n",
    "#-----------------------------------------------------------------------\n",
    "# load our API credentials \n",
    "#-----------------------------------------------------------------------\n",
    "config = {}\n",
    "exec(open(\"./python-twitter-examples/config.py\").read(), config)\n",
    "\n",
    "search_term = \"contenedor OR limpieza OR im OR imm OR intendencia OR montevideo OR basura OR mugre OR desechos OR inmundicia OR residuo OR residuos OR suciedad\"\n",
    "\n",
    "#-----------------------------------------------------------------------\n",
    "# create twitter API object\n",
    "#-----------------------------------------------------------------------\n",
    "twitter = Twitter(\n",
    "\t\t        auth = OAuth(config[\"access_key\"], config[\"access_secret\"], config[\"consumer_key\"], config[\"consumer_secret\"]))\n",
    "\n",
    "\n",
    "#-----------------------------------------------------------------------\n",
    "# perform a basic search \n",
    "# Twitter API docs:\n",
    "# https://dev.twitter.com/docs/api/1/get/search\n",
    "#-----------------------------------------------------------------------\n",
    "query = twitter.search.tweets(q = \"justin and bieber\")\n",
    "\n",
    "#-----------------------------------------------------------------------\n",
    "# How long did this query take?\n",
    "#-----------------------------------------------------------------------\n",
    "print (\"Search complete (%.3f seconds)\" % (query[\"search_metadata\"][\"completed_in\"]))\n",
    "print (len(query[\"statuses\"]))\n",
    "#-----------------------------------------------------------------------\n",
    "# Loop through each of the results, and print its content.\n",
    "#-----------------------------------------------------------------------\n",
    "for result in query[\"statuses\"]:\n",
    "\tprint (\"(%s) @%s %s\" % (result[\"created_at\"], result[\"user\"][\"screen_name\"], result[\"text\"]))"
   ]
  },
  {
   "cell_type": "code",
   "execution_count": null,
   "metadata": {
    "collapsed": true
   },
   "outputs": [],
   "source": []
  }
 ],
 "metadata": {
  "kernelspec": {
   "display_name": "Python 2",
   "language": "python",
   "name": "python2"
  },
  "language_info": {
   "codemirror_mode": {
    "name": "ipython",
    "version": 2
   },
   "file_extension": ".py",
   "mimetype": "text/x-python",
   "name": "python",
   "nbconvert_exporter": "python",
   "pygments_lexer": "ipython2",
   "version": "2.7.6"
  }
 },
 "nbformat": 4,
 "nbformat_minor": 0
}
